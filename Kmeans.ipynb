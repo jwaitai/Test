{
 "cells": [
  {
   "cell_type": "code",
   "execution_count": 1,
   "id": "8fa87002",
   "metadata": {},
   "outputs": [],
   "source": [
    "import numpy as np # linear algebra\n",
    "import pandas as pd # data processing, CSV file I/O (e.g. pd.read_csv)\n",
    "import matplotlib.pyplot as plt\n",
    "import seaborn as sns\n",
    "\n",
    "df_org = pd.read_csv(\"/home/jiwoo/notebook/Mall_Customers.csv\")\n",
    "df = df_org"
   ]
  },
  {
   "cell_type": "code",
   "execution_count": 2,
   "id": "abbabf3f",
   "metadata": {},
   "outputs": [
    {
     "data": {
      "text/plain": [
       "(200, 5)"
      ]
     },
     "execution_count": 2,
     "metadata": {},
     "output_type": "execute_result"
    }
   ],
   "source": [
    "df.shape"
   ]
  },
  {
   "cell_type": "code",
   "execution_count": 3,
   "id": "98da7283",
   "metadata": {},
   "outputs": [
    {
     "data": {
      "text/html": [
       "<div>\n",
       "<style scoped>\n",
       "    .dataframe tbody tr th:only-of-type {\n",
       "        vertical-align: middle;\n",
       "    }\n",
       "\n",
       "    .dataframe tbody tr th {\n",
       "        vertical-align: top;\n",
       "    }\n",
       "\n",
       "    .dataframe thead th {\n",
       "        text-align: right;\n",
       "    }\n",
       "</style>\n",
       "<table border=\"1\" class=\"dataframe\">\n",
       "  <thead>\n",
       "    <tr style=\"text-align: right;\">\n",
       "      <th></th>\n",
       "      <th>CustomerID</th>\n",
       "      <th>Gender</th>\n",
       "      <th>Age</th>\n",
       "      <th>Annual Income (k$)</th>\n",
       "      <th>Spending Score (1-100)</th>\n",
       "    </tr>\n",
       "  </thead>\n",
       "  <tbody>\n",
       "    <tr>\n",
       "      <th>0</th>\n",
       "      <td>1</td>\n",
       "      <td>Male</td>\n",
       "      <td>19</td>\n",
       "      <td>15</td>\n",
       "      <td>39</td>\n",
       "    </tr>\n",
       "    <tr>\n",
       "      <th>1</th>\n",
       "      <td>2</td>\n",
       "      <td>Male</td>\n",
       "      <td>21</td>\n",
       "      <td>15</td>\n",
       "      <td>81</td>\n",
       "    </tr>\n",
       "    <tr>\n",
       "      <th>2</th>\n",
       "      <td>3</td>\n",
       "      <td>Female</td>\n",
       "      <td>20</td>\n",
       "      <td>16</td>\n",
       "      <td>6</td>\n",
       "    </tr>\n",
       "    <tr>\n",
       "      <th>3</th>\n",
       "      <td>4</td>\n",
       "      <td>Female</td>\n",
       "      <td>23</td>\n",
       "      <td>16</td>\n",
       "      <td>77</td>\n",
       "    </tr>\n",
       "    <tr>\n",
       "      <th>4</th>\n",
       "      <td>5</td>\n",
       "      <td>Female</td>\n",
       "      <td>31</td>\n",
       "      <td>17</td>\n",
       "      <td>40</td>\n",
       "    </tr>\n",
       "  </tbody>\n",
       "</table>\n",
       "</div>"
      ],
      "text/plain": [
       "   CustomerID  Gender  Age  Annual Income (k$)  Spending Score (1-100)\n",
       "0           1    Male   19                  15                      39\n",
       "1           2    Male   21                  15                      81\n",
       "2           3  Female   20                  16                       6\n",
       "3           4  Female   23                  16                      77\n",
       "4           5  Female   31                  17                      40"
      ]
     },
     "execution_count": 3,
     "metadata": {},
     "output_type": "execute_result"
    }
   ],
   "source": [
    "df.head(5)"
   ]
  },
  {
   "cell_type": "code",
   "execution_count": 4,
   "id": "b87bbe0c",
   "metadata": {
    "scrolled": true
   },
   "outputs": [
    {
     "name": "stdout",
     "output_type": "stream",
     "text": [
      "<class 'pandas.core.frame.DataFrame'>\n",
      "RangeIndex: 200 entries, 0 to 199\n",
      "Data columns (total 5 columns):\n",
      " #   Column                  Non-Null Count  Dtype \n",
      "---  ------                  --------------  ----- \n",
      " 0   CustomerID              200 non-null    int64 \n",
      " 1   Gender                  200 non-null    object\n",
      " 2   Age                     200 non-null    int64 \n",
      " 3   Annual Income (k$)      200 non-null    int64 \n",
      " 4   Spending Score (1-100)  200 non-null    int64 \n",
      "dtypes: int64(4), object(1)\n",
      "memory usage: 7.9+ KB\n"
     ]
    },
    {
     "data": {
      "text/plain": [
       "CustomerID                0\n",
       "Gender                    0\n",
       "Age                       0\n",
       "Annual Income (k$)        0\n",
       "Spending Score (1-100)    0\n",
       "dtype: int64"
      ]
     },
     "execution_count": 4,
     "metadata": {},
     "output_type": "execute_result"
    }
   ],
   "source": [
    "df.info()\n",
    "df.isnull().sum()"
   ]
  },
  {
   "cell_type": "markdown",
   "id": "d0a1dc09",
   "metadata": {},
   "source": [
    "##### Set a few columns only  3rd/4th columns only(numpy)\n",
    "X = df.iloc[:, [0,1,2,3,4]].values"
   ]
  },
  {
   "cell_type": "code",
   "execution_count": 5,
   "id": "306de527",
   "metadata": {},
   "outputs": [
    {
     "data": {
      "text/plain": [
       "array([[1, 'Male', 19, 15, 39],\n",
       "       [2, 'Male', 21, 15, 81],\n",
       "       [3, 'Female', 20, 16, 6],\n",
       "       [4, 'Female', 23, 16, 77],\n",
       "       [5, 'Female', 31, 17, 40],\n",
       "       [6, 'Female', 22, 17, 76],\n",
       "       [7, 'Female', 35, 18, 6],\n",
       "       [8, 'Female', 23, 18, 94],\n",
       "       [9, 'Male', 64, 19, 3],\n",
       "       [10, 'Female', 30, 19, 72],\n",
       "       [11, 'Male', 67, 19, 14],\n",
       "       [12, 'Female', 35, 19, 99],\n",
       "       [13, 'Female', 58, 20, 15],\n",
       "       [14, 'Female', 24, 20, 77],\n",
       "       [15, 'Male', 37, 20, 13],\n",
       "       [16, 'Male', 22, 20, 79],\n",
       "       [17, 'Female', 35, 21, 35],\n",
       "       [18, 'Male', 20, 21, 66],\n",
       "       [19, 'Male', 52, 23, 29],\n",
       "       [20, 'Female', 35, 23, 98],\n",
       "       [21, 'Male', 35, 24, 35],\n",
       "       [22, 'Male', 25, 24, 73],\n",
       "       [23, 'Female', 46, 25, 5],\n",
       "       [24, 'Male', 31, 25, 73],\n",
       "       [25, 'Female', 54, 28, 14],\n",
       "       [26, 'Male', 29, 28, 82],\n",
       "       [27, 'Female', 45, 28, 32],\n",
       "       [28, 'Male', 35, 28, 61],\n",
       "       [29, 'Female', 40, 29, 31],\n",
       "       [30, 'Female', 23, 29, 87],\n",
       "       [31, 'Male', 60, 30, 4],\n",
       "       [32, 'Female', 21, 30, 73],\n",
       "       [33, 'Male', 53, 33, 4],\n",
       "       [34, 'Male', 18, 33, 92],\n",
       "       [35, 'Female', 49, 33, 14],\n",
       "       [36, 'Female', 21, 33, 81],\n",
       "       [37, 'Female', 42, 34, 17],\n",
       "       [38, 'Female', 30, 34, 73],\n",
       "       [39, 'Female', 36, 37, 26],\n",
       "       [40, 'Female', 20, 37, 75],\n",
       "       [41, 'Female', 65, 38, 35],\n",
       "       [42, 'Male', 24, 38, 92],\n",
       "       [43, 'Male', 48, 39, 36],\n",
       "       [44, 'Female', 31, 39, 61],\n",
       "       [45, 'Female', 49, 39, 28],\n",
       "       [46, 'Female', 24, 39, 65],\n",
       "       [47, 'Female', 50, 40, 55],\n",
       "       [48, 'Female', 27, 40, 47],\n",
       "       [49, 'Female', 29, 40, 42],\n",
       "       [50, 'Female', 31, 40, 42],\n",
       "       [51, 'Female', 49, 42, 52],\n",
       "       [52, 'Male', 33, 42, 60],\n",
       "       [53, 'Female', 31, 43, 54],\n",
       "       [54, 'Male', 59, 43, 60],\n",
       "       [55, 'Female', 50, 43, 45],\n",
       "       [56, 'Male', 47, 43, 41],\n",
       "       [57, 'Female', 51, 44, 50],\n",
       "       [58, 'Male', 69, 44, 46],\n",
       "       [59, 'Female', 27, 46, 51],\n",
       "       [60, 'Male', 53, 46, 46],\n",
       "       [61, 'Male', 70, 46, 56],\n",
       "       [62, 'Male', 19, 46, 55],\n",
       "       [63, 'Female', 67, 47, 52],\n",
       "       [64, 'Female', 54, 47, 59],\n",
       "       [65, 'Male', 63, 48, 51],\n",
       "       [66, 'Male', 18, 48, 59],\n",
       "       [67, 'Female', 43, 48, 50],\n",
       "       [68, 'Female', 68, 48, 48],\n",
       "       [69, 'Male', 19, 48, 59],\n",
       "       [70, 'Female', 32, 48, 47],\n",
       "       [71, 'Male', 70, 49, 55],\n",
       "       [72, 'Female', 47, 49, 42],\n",
       "       [73, 'Female', 60, 50, 49],\n",
       "       [74, 'Female', 60, 50, 56],\n",
       "       [75, 'Male', 59, 54, 47],\n",
       "       [76, 'Male', 26, 54, 54],\n",
       "       [77, 'Female', 45, 54, 53],\n",
       "       [78, 'Male', 40, 54, 48],\n",
       "       [79, 'Female', 23, 54, 52],\n",
       "       [80, 'Female', 49, 54, 42],\n",
       "       [81, 'Male', 57, 54, 51],\n",
       "       [82, 'Male', 38, 54, 55],\n",
       "       [83, 'Male', 67, 54, 41],\n",
       "       [84, 'Female', 46, 54, 44],\n",
       "       [85, 'Female', 21, 54, 57],\n",
       "       [86, 'Male', 48, 54, 46],\n",
       "       [87, 'Female', 55, 57, 58],\n",
       "       [88, 'Female', 22, 57, 55],\n",
       "       [89, 'Female', 34, 58, 60],\n",
       "       [90, 'Female', 50, 58, 46],\n",
       "       [91, 'Female', 68, 59, 55],\n",
       "       [92, 'Male', 18, 59, 41],\n",
       "       [93, 'Male', 48, 60, 49],\n",
       "       [94, 'Female', 40, 60, 40],\n",
       "       [95, 'Female', 32, 60, 42],\n",
       "       [96, 'Male', 24, 60, 52],\n",
       "       [97, 'Female', 47, 60, 47],\n",
       "       [98, 'Female', 27, 60, 50],\n",
       "       [99, 'Male', 48, 61, 42],\n",
       "       [100, 'Male', 20, 61, 49],\n",
       "       [101, 'Female', 23, 62, 41],\n",
       "       [102, 'Female', 49, 62, 48],\n",
       "       [103, 'Male', 67, 62, 59],\n",
       "       [104, 'Male', 26, 62, 55],\n",
       "       [105, 'Male', 49, 62, 56],\n",
       "       [106, 'Female', 21, 62, 42],\n",
       "       [107, 'Female', 66, 63, 50],\n",
       "       [108, 'Male', 54, 63, 46],\n",
       "       [109, 'Male', 68, 63, 43],\n",
       "       [110, 'Male', 66, 63, 48],\n",
       "       [111, 'Male', 65, 63, 52],\n",
       "       [112, 'Female', 19, 63, 54],\n",
       "       [113, 'Female', 38, 64, 42],\n",
       "       [114, 'Male', 19, 64, 46],\n",
       "       [115, 'Female', 18, 65, 48],\n",
       "       [116, 'Female', 19, 65, 50],\n",
       "       [117, 'Female', 63, 65, 43],\n",
       "       [118, 'Female', 49, 65, 59],\n",
       "       [119, 'Female', 51, 67, 43],\n",
       "       [120, 'Female', 50, 67, 57],\n",
       "       [121, 'Male', 27, 67, 56],\n",
       "       [122, 'Female', 38, 67, 40],\n",
       "       [123, 'Female', 40, 69, 58],\n",
       "       [124, 'Male', 39, 69, 91],\n",
       "       [125, 'Female', 23, 70, 29],\n",
       "       [126, 'Female', 31, 70, 77],\n",
       "       [127, 'Male', 43, 71, 35],\n",
       "       [128, 'Male', 40, 71, 95],\n",
       "       [129, 'Male', 59, 71, 11],\n",
       "       [130, 'Male', 38, 71, 75],\n",
       "       [131, 'Male', 47, 71, 9],\n",
       "       [132, 'Male', 39, 71, 75],\n",
       "       [133, 'Female', 25, 72, 34],\n",
       "       [134, 'Female', 31, 72, 71],\n",
       "       [135, 'Male', 20, 73, 5],\n",
       "       [136, 'Female', 29, 73, 88],\n",
       "       [137, 'Female', 44, 73, 7],\n",
       "       [138, 'Male', 32, 73, 73],\n",
       "       [139, 'Male', 19, 74, 10],\n",
       "       [140, 'Female', 35, 74, 72],\n",
       "       [141, 'Female', 57, 75, 5],\n",
       "       [142, 'Male', 32, 75, 93],\n",
       "       [143, 'Female', 28, 76, 40],\n",
       "       [144, 'Female', 32, 76, 87],\n",
       "       [145, 'Male', 25, 77, 12],\n",
       "       [146, 'Male', 28, 77, 97],\n",
       "       [147, 'Male', 48, 77, 36],\n",
       "       [148, 'Female', 32, 77, 74],\n",
       "       [149, 'Female', 34, 78, 22],\n",
       "       [150, 'Male', 34, 78, 90],\n",
       "       [151, 'Male', 43, 78, 17],\n",
       "       [152, 'Male', 39, 78, 88],\n",
       "       [153, 'Female', 44, 78, 20],\n",
       "       [154, 'Female', 38, 78, 76],\n",
       "       [155, 'Female', 47, 78, 16],\n",
       "       [156, 'Female', 27, 78, 89],\n",
       "       [157, 'Male', 37, 78, 1],\n",
       "       [158, 'Female', 30, 78, 78],\n",
       "       [159, 'Male', 34, 78, 1],\n",
       "       [160, 'Female', 30, 78, 73],\n",
       "       [161, 'Female', 56, 79, 35],\n",
       "       [162, 'Female', 29, 79, 83],\n",
       "       [163, 'Male', 19, 81, 5],\n",
       "       [164, 'Female', 31, 81, 93],\n",
       "       [165, 'Male', 50, 85, 26],\n",
       "       [166, 'Female', 36, 85, 75],\n",
       "       [167, 'Male', 42, 86, 20],\n",
       "       [168, 'Female', 33, 86, 95],\n",
       "       [169, 'Female', 36, 87, 27],\n",
       "       [170, 'Male', 32, 87, 63],\n",
       "       [171, 'Male', 40, 87, 13],\n",
       "       [172, 'Male', 28, 87, 75],\n",
       "       [173, 'Male', 36, 87, 10],\n",
       "       [174, 'Male', 36, 87, 92],\n",
       "       [175, 'Female', 52, 88, 13],\n",
       "       [176, 'Female', 30, 88, 86],\n",
       "       [177, 'Male', 58, 88, 15],\n",
       "       [178, 'Male', 27, 88, 69],\n",
       "       [179, 'Male', 59, 93, 14],\n",
       "       [180, 'Male', 35, 93, 90],\n",
       "       [181, 'Female', 37, 97, 32],\n",
       "       [182, 'Female', 32, 97, 86],\n",
       "       [183, 'Male', 46, 98, 15],\n",
       "       [184, 'Female', 29, 98, 88],\n",
       "       [185, 'Female', 41, 99, 39],\n",
       "       [186, 'Male', 30, 99, 97],\n",
       "       [187, 'Female', 54, 101, 24],\n",
       "       [188, 'Male', 28, 101, 68],\n",
       "       [189, 'Female', 41, 103, 17],\n",
       "       [190, 'Female', 36, 103, 85],\n",
       "       [191, 'Female', 34, 103, 23],\n",
       "       [192, 'Female', 32, 103, 69],\n",
       "       [193, 'Male', 33, 113, 8],\n",
       "       [194, 'Female', 38, 113, 91],\n",
       "       [195, 'Female', 47, 120, 16],\n",
       "       [196, 'Female', 35, 120, 79],\n",
       "       [197, 'Female', 45, 126, 28],\n",
       "       [198, 'Male', 32, 126, 74],\n",
       "       [199, 'Male', 32, 137, 18],\n",
       "       [200, 'Male', 30, 137, 83]], dtype=object)"
      ]
     },
     "execution_count": 5,
     "metadata": {},
     "output_type": "execute_result"
    }
   ],
   "source": [
    "X = df.iloc[:, [0,1,2,3,4]].values\n",
    "X"
   ]
  },
  {
   "cell_type": "code",
   "execution_count": 6,
   "id": "84ad0ef7",
   "metadata": {},
   "outputs": [
    {
     "data": {
      "text/html": [
       "<div>\n",
       "<style scoped>\n",
       "    .dataframe tbody tr th:only-of-type {\n",
       "        vertical-align: middle;\n",
       "    }\n",
       "\n",
       "    .dataframe tbody tr th {\n",
       "        vertical-align: top;\n",
       "    }\n",
       "\n",
       "    .dataframe thead th {\n",
       "        text-align: right;\n",
       "    }\n",
       "</style>\n",
       "<table border=\"1\" class=\"dataframe\">\n",
       "  <thead>\n",
       "    <tr style=\"text-align: right;\">\n",
       "      <th></th>\n",
       "      <th>Gender_Female</th>\n",
       "      <th>Gender_Male</th>\n",
       "    </tr>\n",
       "  </thead>\n",
       "  <tbody>\n",
       "    <tr>\n",
       "      <th>0</th>\n",
       "      <td>0.0</td>\n",
       "      <td>1.0</td>\n",
       "    </tr>\n",
       "    <tr>\n",
       "      <th>1</th>\n",
       "      <td>0.0</td>\n",
       "      <td>1.0</td>\n",
       "    </tr>\n",
       "    <tr>\n",
       "      <th>2</th>\n",
       "      <td>1.0</td>\n",
       "      <td>0.0</td>\n",
       "    </tr>\n",
       "    <tr>\n",
       "      <th>3</th>\n",
       "      <td>1.0</td>\n",
       "      <td>0.0</td>\n",
       "    </tr>\n",
       "    <tr>\n",
       "      <th>4</th>\n",
       "      <td>1.0</td>\n",
       "      <td>0.0</td>\n",
       "    </tr>\n",
       "  </tbody>\n",
       "</table>\n",
       "</div>"
      ],
      "text/plain": [
       "   Gender_Female  Gender_Male\n",
       "0            0.0          1.0\n",
       "1            0.0          1.0\n",
       "2            1.0          0.0\n",
       "3            1.0          0.0\n",
       "4            1.0          0.0"
      ]
     },
     "execution_count": 6,
     "metadata": {},
     "output_type": "execute_result"
    }
   ],
   "source": [
    "#onehotencoder -> cat features\n",
    "from sklearn.preprocessing import OneHotEncoder\n",
    "ohe = OneHotEncoder(categories='auto')\n",
    "ohe_arr = ohe.fit_transform(df[['Gender']]).toarray()\n",
    "ohe_labels = ohe.get_feature_names(['Gender'])\n",
    "ohe_df = pd.DataFrame(ohe_arr, columns= ohe_labels)\n",
    "ohe_df.head()\n",
    "\n",
    "## or easier one. \n",
    "# df = pd.get_dummies(df.Gender)"
   ]
  },
  {
   "cell_type": "code",
   "execution_count": 19,
   "id": "42e7a879",
   "metadata": {},
   "outputs": [],
   "source": [
    "from sklearn.preprocessing import OneHotEncoder\n",
    "X = pd.concat([df_org,df],axis=1)\n",
    "X = X.iloc[:, [2,3,4,5,6]].values"
   ]
  },
  {
   "cell_type": "code",
   "execution_count": 20,
   "id": "a6e0e1e6",
   "metadata": {},
   "outputs": [],
   "source": [
    "from sklearn.cluster import KMeans\n",
    "wcss=[]\n",
    "for i in range(1,10):\n",
    "    kmeans = KMeans(n_clusters= i, init='k-means++', random_state=0)\n",
    "    kmeans.fit(X)\n",
    "    wcss.append(kmeans.inertia_)\n"
   ]
  },
  {
   "cell_type": "code",
   "execution_count": 21,
   "id": "4691310c",
   "metadata": {},
   "outputs": [
    {
     "data": {
      "image/png": "[encoded data removed]",
      "text/plain": [
       "<Figure size 432x288 with 1 Axes>"
      ]
     },
     "metadata": {
      "needs_background": "light"
     },
     "output_type": "display_data"
    }
   ],
   "source": [
    "plt.plot(range(1,10), wcss)\n",
    "plt.title('The Elbow Method')\n",
    "plt.xlabel('no of clusters')\n",
    "plt.ylabel('wcss')\n",
    "plt.show()"
   ]
  },
  {
   "cell_type": "code",
   "execution_count": 22,
   "id": "3dd6388a",
   "metadata": {},
   "outputs": [],
   "source": [
    "#Model Build\n",
    "kmeansmodel = KMeans(n_clusters= 5, init='k-means++', random_state=0)\n",
    "y_kmeans= kmeansmodel.fit_predict(X)\n"
   ]
  },
  {
   "cell_type": "code",
   "execution_count": 23,
   "id": "0f6c4ec5",
   "metadata": {},
   "outputs": [
    {
     "data": {
      "image/png": "[encoded data removed]",
      "text/plain": [
       "<Figure size 432x288 with 1 Axes>"
      ]
     },
     "metadata": {
      "needs_background": "light"
     },
     "output_type": "display_data"
    }
   ],
   "source": [
    "plt.scatter(X[y_kmeans == 0, 0], X[y_kmeans == 0, 1], s = 100, c = 'red', label = 'Cluster 1')\n",
    "plt.scatter(X[y_kmeans == 1, 0], X[y_kmeans == 1, 1], s = 100, c = 'blue', label = 'Cluster 2')\n",
    "plt.scatter(X[y_kmeans == 2, 0], X[y_kmeans == 2, 1], s = 100, c = 'green', label = 'Cluster 3')\n",
    "plt.scatter(X[y_kmeans == 3, 0], X[y_kmeans == 3, 1], s = 100, c = 'cyan', label = 'Cluster 4')\n",
    "plt.scatter(X[y_kmeans == 4, 0], X[y_kmeans == 4, 1], s = 100, c = 'magenta', label = 'Cluster 5')\n",
    "plt.scatter(kmeans.cluster_centers_[:, 0], kmeans.cluster_centers_[:, 1], s = 300, c = 'yellow', label = 'Centroids')\n",
    "plt.title('Clusters of customers')\n",
    "plt.xlabel('Annual Income (k$)')\n",
    "plt.ylabel('Spending Score (1-100)')\n",
    "plt.legend()\n",
    "plt.show()"
   ]
  },
  {
   "cell_type": "code",
   "execution_count": null,
   "id": "0634e6bd",
   "metadata": {},
   "outputs": [],
   "source": [
    "\n",
    "\n",
    "###Model Interpretation \n",
    "#Cluster 1 (Red Color) -> earning high but spending less\n",
    "#cluster 2 (Blue Colr) -> average in terms of earning and spending \n",
    "#cluster 3 (Green Color) -> earning high and also spending high [TARGET SET]\n",
    "#cluster 4 (cyan Color) -> earning less but spending more\n",
    "#Cluster 5 (magenta Color) -> Earning less , spending less"
   ]
  }
 ],
 "metadata": {
  "kernelspec": {
   "display_name": "Python 3 (ipykernel)",
   "language": "python",
   "name": "python3"
  },
  "language_info": {
   "codemirror_mode": {
    "name": "ipython",
    "version": 3
   },
   "file_extension": ".py",
   "mimetype": "text/x-python",
   "name": "python",
   "nbconvert_exporter": "python",
   "pygments_lexer": "ipython3",
   "version": "3.8.8"
  }
 },
 "nbformat": 4,
 "nbformat_minor": 5
}
